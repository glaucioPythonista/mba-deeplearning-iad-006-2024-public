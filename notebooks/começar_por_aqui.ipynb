{
 "cells": [
  {
   "cell_type": "markdown",
   "metadata": {},
   "source": [
    "Aqui está um código simples com sklearn para testar a execução de Python no Codespace com uma Decision Tree:"
   ]
  },
  {
   "cell_type": "code",
   "execution_count": 1,
   "metadata": {},
   "outputs": [
    {
     "name": "stderr",
     "output_type": "stream",
     "text": [
      "/home/codespace/.local/lib/python3.10/site-packages/xgboost/core.py:723: FutureWarning: Pass `evals` as keyword args.\n",
      "  warnings.warn(msg, FutureWarning)\n"
     ]
    },
    {
     "name": "stdout",
     "output_type": "stream",
     "text": [
      "[0]\ttrain-merror:0.13719\teval-merror:0.15375\n",
      "[1]\ttrain-merror:0.10375\teval-merror:0.11768\n",
      "[2]\ttrain-merror:0.08808\teval-merror:0.10286\n",
      "[3]\ttrain-merror:0.08000\teval-merror:0.09518\n",
      "[4]\ttrain-merror:0.07460\teval-merror:0.09170\n",
      "[5]\ttrain-merror:0.07092\teval-merror:0.08830\n",
      "[6]\ttrain-merror:0.06754\teval-merror:0.08571\n",
      "[7]\ttrain-merror:0.06531\teval-merror:0.08313\n",
      "[8]\ttrain-merror:0.06283\teval-merror:0.07991\n",
      "[9]\ttrain-merror:0.06067\teval-merror:0.07786\n",
      "[10]\ttrain-merror:0.05846\teval-merror:0.07661\n",
      "[11]\ttrain-merror:0.05658\teval-merror:0.07554\n",
      "[12]\ttrain-merror:0.05480\teval-merror:0.07393\n",
      "[13]\ttrain-merror:0.05324\teval-merror:0.07134\n",
      "[14]\ttrain-merror:0.05152\teval-merror:0.06991\n",
      "[15]\ttrain-merror:0.04953\teval-merror:0.06893\n",
      "[16]\ttrain-merror:0.04815\teval-merror:0.06813\n",
      "[17]\ttrain-merror:0.04627\teval-merror:0.06616\n",
      "[18]\ttrain-merror:0.04500\teval-merror:0.06518\n",
      "[19]\ttrain-merror:0.04362\teval-merror:0.06420\n",
      "[20]\ttrain-merror:0.04205\teval-merror:0.06313\n",
      "[21]\ttrain-merror:0.04129\teval-merror:0.06295\n",
      "[22]\ttrain-merror:0.04013\teval-merror:0.06170\n",
      "[23]\ttrain-merror:0.03908\teval-merror:0.06170\n",
      "[24]\ttrain-merror:0.03770\teval-merror:0.06080\n",
      "[25]\ttrain-merror:0.03627\teval-merror:0.05937\n",
      "[26]\ttrain-merror:0.03516\teval-merror:0.05866\n",
      "[27]\ttrain-merror:0.03429\teval-merror:0.05759\n",
      "[28]\ttrain-merror:0.03335\teval-merror:0.05705\n",
      "[29]\ttrain-merror:0.03232\teval-merror:0.05607\n",
      "[30]\ttrain-merror:0.03136\teval-merror:0.05500\n",
      "[31]\ttrain-merror:0.03036\teval-merror:0.05491\n",
      "[32]\ttrain-merror:0.02917\teval-merror:0.05411\n",
      "[33]\ttrain-merror:0.02853\teval-merror:0.05304\n",
      "[34]\ttrain-merror:0.02750\teval-merror:0.05268\n",
      "[35]\ttrain-merror:0.02654\teval-merror:0.05214\n",
      "[36]\ttrain-merror:0.02583\teval-merror:0.05143\n",
      "[37]\ttrain-merror:0.02513\teval-merror:0.05045\n",
      "[38]\ttrain-merror:0.02424\teval-merror:0.04991\n",
      "[39]\ttrain-merror:0.02344\teval-merror:0.04902\n",
      "[40]\ttrain-merror:0.02272\teval-merror:0.04848\n",
      "[41]\ttrain-merror:0.02183\teval-merror:0.04813\n",
      "[42]\ttrain-merror:0.02109\teval-merror:0.04714\n",
      "[43]\ttrain-merror:0.02063\teval-merror:0.04714\n",
      "[44]\ttrain-merror:0.01996\teval-merror:0.04670\n",
      "[45]\ttrain-merror:0.01953\teval-merror:0.04625\n",
      "[46]\ttrain-merror:0.01895\teval-merror:0.04536\n",
      "[47]\ttrain-merror:0.01846\teval-merror:0.04446\n",
      "[48]\ttrain-merror:0.01763\teval-merror:0.04420\n",
      "[49]\ttrain-merror:0.01699\teval-merror:0.04446\n",
      "Acurácia no conjunto de teste: 95.65%\n"
     ]
    }
   ],
   "source": [
    "from sklearn.datasets import fetch_openml\n",
    "from sklearn.model_selection import train_test_split\n",
    "from sklearn.metrics import accuracy_score\n",
    "import xgboost as xgb\n",
    "\n",
    "# Carregar o conjunto de dados MNIST\n",
    "mnist = fetch_openml('mnist_784')\n",
    "\n",
    "# Separar os dados em características (X) e rótulos (y)\n",
    "X, y = mnist.data, mnist.target\n",
    "y = y.astype(int)  # Converter os rótulos para inteiros\n",
    "\n",
    "# Dividir o conjunto de dados em treinamento e teste\n",
    "X_train, X_test, y_train, y_test = train_test_split(X, y, test_size=0.2, random_state=42)\n",
    "\n",
    "# Dividir o conjunto de treinamento em treinamento e validação\n",
    "X_train, X_val, y_train, y_val = train_test_split(X_train, y_train, test_size=0.2, random_state=42)\n",
    "\n",
    "# Configuração dos hiperparâmetros do modelo XGBoost\n",
    "params = {\n",
    "    'objective': 'multi:softmax',\n",
    "    'num_class': 10,\n",
    "    'eta': 0.1,\n",
    "    'max_depth': 6,\n",
    "    'subsample': 0.8,\n",
    "    'colsample_bytree': 0.8,\n",
    "    'eval_metric': 'merror'\n",
    "}\n",
    "\n",
    "# Criar DMatrix para treinamento e validação\n",
    "dtrain = xgb.DMatrix(X_train, label=y_train)\n",
    "dval = xgb.DMatrix(X_val, label=y_val)\n",
    "dtest = xgb.DMatrix(X_test, label=y_test)\n",
    "\n",
    "# Treinamento do modelo\n",
    "evallist = [(dtrain, 'train'), (dval, 'eval')]\n",
    "num_round = 50\n",
    "bst = xgb.train(params, dtrain, num_round, evallist, early_stopping_rounds=10)\n",
    "\n",
    "# Fazer previsões no conjunto de teste\n",
    "y_pred = bst.predict(dtest)\n",
    "\n",
    "# Avaliar a acurácia do modelo\n",
    "accuracy = accuracy_score(y_test, y_pred)\n",
    "print(f'Acurácia no conjunto de teste: {accuracy * 100:.2f}%')\n"
   ]
  },
  {
   "cell_type": "code",
   "execution_count": null,
   "metadata": {},
   "outputs": [
    {
     "name": "stdout",
     "output_type": "stream",
     "text": [
      "Precisão: 1.0\n"
     ]
    }
   ],
   "source": [
    "import numpy as np\n",
    "from sklearn.tree import DecisionTreeClassifier\n",
    "from sklearn.datasets import load_iris\n",
    "from sklearn.model_selection import train_test_split\n",
    "\n",
    "# Carregar o dataset Iris\n",
    "iris = load_iris()\n",
    "X = iris.data\n",
    "y = iris.target\n",
    "\n",
    "# Dividir o dataset em treinamento e teste\n",
    "X_train, X_test, y_train, y_test = train_test_split(X, y, test_size=0.2, random_state=42)\n",
    "\n",
    "# Criar uma Decision Tree\n",
    "clf = DecisionTreeClassifier(random_state=42)\n",
    "\n",
    "# Treinar a Decision Tree\n",
    "clf.fit(X_train, y_train)\n",
    "\n",
    "# Prever as classes para o conjunto de teste\n",
    "y_pred = clf.predict(X_test)\n",
    "\n",
    "# Imprimir a precisão da Decision Tree\n",
    "print(\"Precisão:\", clf.score(X_test, y_test))"
   ]
  },
  {
   "cell_type": "markdown",
   "metadata": {},
   "source": []
  }
 ],
 "metadata": {
  "kernelspec": {
   "display_name": "Python 3",
   "language": "python",
   "name": "python3"
  },
  "language_info": {
   "codemirror_mode": {
    "name": "ipython",
    "version": 3
   },
   "file_extension": ".py",
   "mimetype": "text/x-python",
   "name": "python",
   "nbconvert_exporter": "python",
   "pygments_lexer": "ipython3",
   "version": "3.10.13"
  }
 },
 "nbformat": 4,
 "nbformat_minor": 2
}
