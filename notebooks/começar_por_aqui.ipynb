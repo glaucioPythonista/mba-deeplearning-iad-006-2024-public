{
 "cells": [
  {
   "cell_type": "markdown",
   "metadata": {},
   "source": [
    "Aqui está um código simples com sklearn para testar a execução de Python no Codespace com uma Decision Tree:"
   ]
  },
  {
   "cell_type": "code",
   "execution_count": 3,
   "metadata": {},
   "outputs": [
    {
     "name": "stdout",
     "output_type": "stream",
     "text": [
      "[0]\ttrain-merror:0.05135\teval-merror:0.15625\n",
      "[1]\ttrain-merror:0.02611\teval-merror:0.12153\n",
      "[2]\ttrain-merror:0.01828\teval-merror:0.10764\n",
      "[3]\ttrain-merror:0.01044\teval-merror:0.06944\n",
      "[4]\ttrain-merror:0.00870\teval-merror:0.05208\n",
      "[5]\ttrain-merror:0.00783\teval-merror:0.05556\n",
      "[6]\ttrain-merror:0.00609\teval-merror:0.05208\n",
      "[7]\ttrain-merror:0.00696\teval-merror:0.03819\n",
      "[8]\ttrain-merror:0.00522\teval-merror:0.04167\n",
      "[9]\ttrain-merror:0.00522\teval-merror:0.04861\n",
      "[10]\ttrain-merror:0.00522\teval-merror:0.04514\n",
      "[11]\ttrain-merror:0.00435\teval-merror:0.04167\n",
      "[12]\ttrain-merror:0.00435\teval-merror:0.04167\n",
      "[13]\ttrain-merror:0.00348\teval-merror:0.04167\n",
      "[14]\ttrain-merror:0.00261\teval-merror:0.04167\n",
      "[15]\ttrain-merror:0.00261\teval-merror:0.04167\n",
      "[16]\ttrain-merror:0.00261\teval-merror:0.04167\n",
      "Acurácia no conjunto de teste: 95.56%\n"
     ]
    },
    {
     "name": "stderr",
     "output_type": "stream",
     "text": [
      "/home/codespace/.local/lib/python3.10/site-packages/xgboost/core.py:723: FutureWarning: Pass `evals` as keyword args.\n",
      "  warnings.warn(msg, FutureWarning)\n"
     ]
    }
   ],
   "source": [
    "from sklearn.datasets import load_digits\n",
    "from sklearn.model_selection import train_test_split\n",
    "from sklearn.metrics import accuracy_score\n",
    "import xgboost as xgb\n",
    "\n",
    "# Carregar o conjunto de dados MNIST\n",
    "digits = load_digits()\n",
    "\n",
    "# Separar os dados em características (X) e rótulos (y)\n",
    "X, y = digits.data, digits.target\n",
    "\n",
    "# Dividir o conjunto de dados em treinamento e teste\n",
    "X_train, X_test, y_train, y_test = train_test_split(X, y, test_size=0.2, random_state=42)\n",
    "\n",
    "# Dividir o conjunto de treinamento em treinamento e validação\n",
    "X_train, X_val, y_train, y_val = train_test_split(X_train, y_train, test_size=0.2, random_state=42)\n",
    "\n",
    "# Configuração dos hiperparâmetros do modelo XGBoost\n",
    "params = {\n",
    "    'objective': 'multi:softmax',\n",
    "    'num_class': 10,\n",
    "    'eta': 0.1,\n",
    "    'max_depth': 6,\n",
    "    'subsample': 0.8,\n",
    "    'colsample_bytree': 0.8,\n",
    "    'eval_metric': 'merror'\n",
    "}\n",
    "\n",
    "# Criar DMatrix para treinamento e validação\n",
    "dtrain = xgb.DMatrix(X_train, label=y_train)\n",
    "dval = xgb.DMatrix(X_val, label=y_val)\n",
    "dtest = xgb.DMatrix(X_test, label=y_test)\n",
    "\n",
    "# Treinamento do modelo\n",
    "evallist = [(dtrain, 'train'), (dval, 'eval')]\n",
    "num_round = 50\n",
    "bst = xgb.train(params, dtrain, num_round, evallist, early_stopping_rounds=10)\n",
    "\n",
    "# Fazer previsões no conjunto de teste\n",
    "y_pred = bst.predict(dtest)\n",
    "\n",
    "# Avaliar a acurácia do modelo\n",
    "accuracy = accuracy_score(y_test, y_pred)\n",
    "print(f'Acurácia no conjunto de teste: {accuracy * 100:.2f}%')\n",
    "\n"
   ]
  },
  {
   "cell_type": "code",
   "execution_count": null,
   "metadata": {},
   "outputs": [],
   "source": [
    "### Passo 1: Treinar um Modelo de Árvore de Decisão Simples"
   ]
  },
  {
   "cell_type": "code",
   "execution_count": 4,
   "metadata": {},
   "outputs": [
    {
     "name": "stdout",
     "output_type": "stream",
     "text": [
      "Acurácia do modelo de árvore de decisão: 87.50%\n"
     ]
    }
   ],
   "source": [
    "from sklearn.tree import DecisionTreeClassifier\n",
    "from sklearn.metrics import accuracy_score\n",
    "\n",
    "# Treinar o modelo de árvore de decisão simples\n",
    "decision_tree = DecisionTreeClassifier(random_state=42)\n",
    "decision_tree.fit(X_train, y_train)\n",
    "\n",
    "# Fazer previsões no conjunto de teste\n",
    "y_pred_tree = decision_tree.predict(X_test)\n",
    "\n",
    "# Avaliar a acurácia do modelo de árvore de decisão\n",
    "accuracy_tree = accuracy_score(y_test, y_pred_tree)\n",
    "print(f'Acurácia do modelo de árvore de decisão: {accuracy_tree * 100:.2f}%')\n"
   ]
  },
  {
   "cell_type": "code",
   "execution_count": null,
   "metadata": {},
   "outputs": [],
   "source": [
    "### Passo 2: Treinar Modelos Ensemble"
   ]
  },
  {
   "cell_type": "code",
   "execution_count": 5,
   "metadata": {},
   "outputs": [
    {
     "name": "stdout",
     "output_type": "stream",
     "text": [
      "Acurácia do modelo Random Forest: 96.67%\n"
     ]
    }
   ],
   "source": [
    "from sklearn.ensemble import RandomForestClassifier\n",
    "\n",
    "# Treinar o modelo Random Forest\n",
    "random_forest = RandomForestClassifier(n_estimators=100, random_state=42)\n",
    "random_forest.fit(X_train, y_train)\n",
    "\n",
    "# Fazer previsões no conjunto de teste\n",
    "y_pred_rf = random_forest.predict(X_test)\n",
    "\n",
    "# Avaliar a acurácia do modelo Random Forest\n",
    "accuracy_rf = accuracy_score(y_test, y_pred_rf)\n",
    "print(f'Acurácia do modelo Random Forest: {accuracy_rf * 100:.2f}%')\n"
   ]
  },
  {
   "cell_type": "code",
   "execution_count": null,
   "metadata": {},
   "outputs": [],
   "source": [
    "### XGBoost"
   ]
  },
  {
   "cell_type": "code",
   "execution_count": 6,
   "metadata": {},
   "outputs": [
    {
     "name": "stdout",
     "output_type": "stream",
     "text": [
      "Acurácia do modelo XGBoost: 96.39%\n"
     ]
    }
   ],
   "source": [
    "import xgboost as xgb\n",
    "\n",
    "# Configuração dos hiperparâmetros do modelo XGBoost\n",
    "params = {\n",
    "    'objective': 'multi:softmax',\n",
    "    'num_class': 10,\n",
    "    'eta': 0.1,\n",
    "    'max_depth': 6,\n",
    "    'subsample': 0.8,\n",
    "    'colsample_bytree': 0.8,\n",
    "    'eval_metric': 'merror'\n",
    "}\n",
    "\n",
    "# Criar DMatrix para treinamento e teste\n",
    "dtrain = xgb.DMatrix(X_train, label=y_train)\n",
    "dtest = xgb.DMatrix(X_test, label=y_test)\n",
    "\n",
    "# Treinamento do modelo XGBoost\n",
    "num_round = 50\n",
    "bst = xgb.train(params, dtrain, num_round)\n",
    "\n",
    "# Fazer previsões no conjunto de teste\n",
    "y_pred_xgb = bst.predict(dtest)\n",
    "\n",
    "# Avaliar a acurácia do modelo XGBoost\n",
    "accuracy_xgb = accuracy_score(y_test, y_pred_xgb)\n",
    "print(f'Acurácia do modelo XGBoost: {accuracy_xgb * 100:.2f}%')\n"
   ]
  },
  {
   "cell_type": "markdown",
   "metadata": {},
   "source": []
  }
 ],
 "metadata": {
  "kernelspec": {
   "display_name": "Python 3",
   "language": "python",
   "name": "python3"
  },
  "language_info": {
   "codemirror_mode": {
    "name": "ipython",
    "version": 3
   },
   "file_extension": ".py",
   "mimetype": "text/x-python",
   "name": "python",
   "nbconvert_exporter": "python",
   "pygments_lexer": "ipython3",
   "version": "3.10.13"
  }
 },
 "nbformat": 4,
 "nbformat_minor": 2
}
