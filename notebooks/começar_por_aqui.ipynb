{
 "cells": [
  {
   "cell_type": "markdown",
   "metadata": {},
   "source": [
    "Aqui está um código simples com sklearn para testar a execução de Python no Codespace com uma Decision Tree:"
   ]
  },
  {
   "cell_type": "code",
   "execution_count": 3,
   "metadata": {},
   "outputs": [
    {
     "name": "stdout",
     "output_type": "stream",
     "text": [
      "[0]\ttrain-merror:0.05135\teval-merror:0.15625\n",
      "[1]\ttrain-merror:0.02611\teval-merror:0.12153\n",
      "[2]\ttrain-merror:0.01828\teval-merror:0.10764\n",
      "[3]\ttrain-merror:0.01044\teval-merror:0.06944\n",
      "[4]\ttrain-merror:0.00870\teval-merror:0.05208\n",
      "[5]\ttrain-merror:0.00783\teval-merror:0.05556\n",
      "[6]\ttrain-merror:0.00609\teval-merror:0.05208\n",
      "[7]\ttrain-merror:0.00696\teval-merror:0.03819\n",
      "[8]\ttrain-merror:0.00522\teval-merror:0.04167\n",
      "[9]\ttrain-merror:0.00522\teval-merror:0.04861\n",
      "[10]\ttrain-merror:0.00522\teval-merror:0.04514\n",
      "[11]\ttrain-merror:0.00435\teval-merror:0.04167\n",
      "[12]\ttrain-merror:0.00435\teval-merror:0.04167\n",
      "[13]\ttrain-merror:0.00348\teval-merror:0.04167\n",
      "[14]\ttrain-merror:0.00261\teval-merror:0.04167\n",
      "[15]\ttrain-merror:0.00261\teval-merror:0.04167\n",
      "[16]\ttrain-merror:0.00261\teval-merror:0.04167\n",
      "Acurácia no conjunto de teste: 95.56%\n"
     ]
    },
    {
     "name": "stderr",
     "output_type": "stream",
     "text": [
      "/home/codespace/.local/lib/python3.10/site-packages/xgboost/core.py:723: FutureWarning: Pass `evals` as keyword args.\n",
      "  warnings.warn(msg, FutureWarning)\n"
     ]
    }
   ],
   "source": [
    "from sklearn.datasets import load_digits\n",
    "from sklearn.model_selection import train_test_split\n",
    "from sklearn.metrics import accuracy_score\n",
    "import xgboost as xgb\n",
    "\n",
    "# Carregar o conjunto de dados MNIST\n",
    "digits = load_digits()\n",
    "\n",
    "# Separar os dados em características (X) e rótulos (y)\n",
    "X, y = digits.data, digits.target\n",
    "\n",
    "# Dividir o conjunto de dados em treinamento e teste\n",
    "X_train, X_test, y_train, y_test = train_test_split(X, y, test_size=0.2, random_state=42)\n",
    "\n",
    "# Dividir o conjunto de treinamento em treinamento e validação\n",
    "X_train, X_val, y_train, y_val = train_test_split(X_train, y_train, test_size=0.2, random_state=42)\n",
    "\n",
    "# Configuração dos hiperparâmetros do modelo XGBoost\n",
    "params = {\n",
    "    'objective': 'multi:softmax',\n",
    "    'num_class': 10,\n",
    "    'eta': 0.1,\n",
    "    'max_depth': 6,\n",
    "    'subsample': 0.8,\n",
    "    'colsample_bytree': 0.8,\n",
    "    'eval_metric': 'merror'\n",
    "}\n",
    "\n",
    "# Criar DMatrix para treinamento e validação\n",
    "dtrain = xgb.DMatrix(X_train, label=y_train)\n",
    "dval = xgb.DMatrix(X_val, label=y_val)\n",
    "dtest = xgb.DMatrix(X_test, label=y_test)\n",
    "\n",
    "# Treinamento do modelo\n",
    "evallist = [(dtrain, 'train'), (dval, 'eval')]\n",
    "num_round = 50\n",
    "bst = xgb.train(params, dtrain, num_round, evallist, early_stopping_rounds=10)\n",
    "\n",
    "# Fazer previsões no conjunto de teste\n",
    "y_pred = bst.predict(dtest)\n",
    "\n",
    "# Avaliar a acurácia do modelo\n",
    "accuracy = accuracy_score(y_test, y_pred)\n",
    "print(f'Acurácia no conjunto de teste: {accuracy * 100:.2f}%')\n",
    "\n"
   ]
  },
  {
   "cell_type": "code",
   "execution_count": null,
   "metadata": {},
   "outputs": [
    {
     "name": "stdout",
     "output_type": "stream",
     "text": [
      "Precisão: 1.0\n"
     ]
    }
   ],
   "source": [
    "import numpy as np\n",
    "from sklearn.tree import DecisionTreeClassifier\n",
    "from sklearn.datasets import load_iris\n",
    "from sklearn.model_selection import train_test_split\n",
    "\n",
    "# Carregar o dataset Iris\n",
    "iris = load_iris()\n",
    "X = iris.data\n",
    "y = iris.target\n",
    "\n",
    "# Dividir o dataset em treinamento e teste\n",
    "X_train, X_test, y_train, y_test = train_test_split(X, y, test_size=0.2, random_state=42)\n",
    "\n",
    "# Criar uma Decision Tree\n",
    "clf = DecisionTreeClassifier(random_state=42)\n",
    "\n",
    "# Treinar a Decision Tree\n",
    "clf.fit(X_train, y_train)\n",
    "\n",
    "# Prever as classes para o conjunto de teste\n",
    "y_pred = clf.predict(X_test)\n",
    "\n",
    "# Imprimir a precisão da Decision Tree\n",
    "print(\"Precisão:\", clf.score(X_test, y_test))"
   ]
  },
  {
   "cell_type": "markdown",
   "metadata": {},
   "source": []
  }
 ],
 "metadata": {
  "kernelspec": {
   "display_name": "Python 3",
   "language": "python",
   "name": "python3"
  },
  "language_info": {
   "codemirror_mode": {
    "name": "ipython",
    "version": 3
   },
   "file_extension": ".py",
   "mimetype": "text/x-python",
   "name": "python",
   "nbconvert_exporter": "python",
   "pygments_lexer": "ipython3",
   "version": "3.10.13"
  }
 },
 "nbformat": 4,
 "nbformat_minor": 2
}
